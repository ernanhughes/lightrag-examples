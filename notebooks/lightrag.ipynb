{
 "cells": [
  {
   "cell_type": "code",
   "execution_count": 1,
   "metadata": {},
   "outputs": [
    {
     "name": "stdout",
     "output_type": "stream",
     "text": [
      "[The Tragedie of Hamlet by William Shakespeare 159\n",
      "[The Tragedie of Julius Caesar by William Shakespe\n"
     ]
    }
   ],
   "source": [
    "f = open('shakespeare-hamlet.txt', 'r')\n",
    "hamlet = f.read()              # Read entire file into a string\n",
    "f.close()\n",
    "print(hamlet[:50])     # test to see if it worked\n",
    "\n",
    "f = open('shakespeare-caesar.txt', 'r')\n",
    "caesar = f.read()              # Read entire file into a string\n",
    "f.close()\n",
    "print(caesar[:50])     # test to see if it worked\n",
    "\n",
    "texts = [hamlet, caesar]"
   ]
  },
  {
   "cell_type": "code",
   "execution_count": 2,
   "metadata": {},
   "outputs": [
    {
     "name": "stderr",
     "output_type": "stream",
     "text": [
      "d:\\projects\\lightrag-examples\\venv\\Lib\\site-packages\\tqdm\\auto.py:21: TqdmWarning: IProgress not found. Please update jupyter and ipywidgets. See https://ipywidgets.readthedocs.io/en/stable/user_install.html\n",
      "  from .autonotebook import tqdm as notebook_tqdm\n",
      "INFO:nano-vectordb:Init {'embedding_dim': 768, 'metric': 'cosine', 'storage_file': 'data\\\\vdb_entities.json'} 0 data\n",
      "INFO:nano-vectordb:Init {'embedding_dim': 768, 'metric': 'cosine', 'storage_file': 'data\\\\vdb_relationships.json'} 0 data\n",
      "INFO:nano-vectordb:Init {'embedding_dim': 768, 'metric': 'cosine', 'storage_file': 'data\\\\vdb_chunks.json'} 0 data\n",
      "INFO:lightrag:Loaded document status storage with 2 records\n"
     ]
    }
   ],
   "source": [
    "from lightrag.llm.ollama import ollama_model_complete, ollama_embed\n",
    "from lightrag.utils import EmbeddingFunc\n",
    "from lightrag.lightrag import LightRAG\n",
    "import nest_asyncio\n",
    "nest_asyncio.apply()\n",
    "\n",
    "\n",
    "WORKING_DIR=\"data\"\n",
    "MODEL_NAME=\"qwen2.5\"\n",
    "EMBEDDING_MODEL_NAME=\"nomic-embed-text\"\n",
    "\n",
    "# Initialize LightRAG with Ollama model\n",
    "rag = LightRAG(\n",
    "    working_dir=WORKING_DIR,\n",
    "    embedding_cache_config={\n",
    "        \"enabled\": True,\n",
    "        \"similarity_threshold\": 0.90,\n",
    "    },\n",
    "    llm_model_func=ollama_model_complete,  # Use Ollama model for text generation\n",
    "    llm_model_name=MODEL_NAME, # Your model name\n",
    "    # llm_model_max_token_size=8192,\n",
    "    # llm_model_kwargs={\"host\": \"http://localhost:11434\", \"options\": {\"num_ctx\": 8192}},\n",
    "    # Use Ollama embedding function\n",
    "    embedding_func=EmbeddingFunc(\n",
    "        embedding_dim=768,\n",
    "        max_token_size=2048,\n",
    "        func=lambda texts: ollama_embed(\n",
    "            texts,\n",
    "            embed_model=EMBEDDING_MODEL_NAME\n",
    "        )\n",
    "    ),\n",
    ")\n"
   ]
  },
  {
   "cell_type": "code",
   "execution_count": null,
   "metadata": {},
   "outputs": [
    {
     "name": "stderr",
     "output_type": "stream",
     "text": [
      "INFO:lightrag:No new unique documents were found.\n",
      "INFO:lightrag:Number of batches to process: 1.\n",
      "INFO:lightrag:Inserting 43 vectors to chunks\n",
      "INFO:lightrag:Non-embedding cached missed(mode:default type:extract)\n",
      "INFO:lightrag:Non-embedding cached missed(mode:default type:extract)\n",
      "INFO:lightrag:Non-embedding cached missed(mode:default type:extract)\n",
      "INFO:lightrag:Non-embedding cached missed(mode:default type:extract)\n",
      "INFO:lightrag:Non-embedding cached missed(mode:default type:extract)\n",
      "INFO:lightrag:Non-embedding cached missed(mode:default type:extract)\n",
      "INFO:lightrag:Non-embedding cached missed(mode:default type:extract)\n",
      "INFO:lightrag:Non-embedding cached missed(mode:default type:extract)\n",
      "INFO:lightrag:Non-embedding cached missed(mode:default type:extract)\n",
      "INFO:lightrag:Non-embedding cached missed(mode:default type:extract)\n",
      "INFO:lightrag:Non-embedding cached missed(mode:default type:extract)\n",
      "INFO:lightrag:Non-embedding cached missed(mode:default type:extract)\n",
      "INFO:lightrag:Non-embedding cached missed(mode:default type:extract)\n",
      "INFO:lightrag:Non-embedding cached missed(mode:default type:extract)\n",
      "INFO:lightrag:Non-embedding cached missed(mode:default type:extract)\n",
      "INFO:lightrag:Non-embedding cached missed(mode:default type:extract)\n",
      "INFO:lightrag:Non-embedding cached missed(mode:default type:extract)\n",
      "INFO:lightrag:Non-embedding cached missed(mode:default type:extract)\n",
      "INFO:lightrag:Non-embedding cached missed(mode:default type:extract)\n",
      "INFO:lightrag:Non-embedding cached missed(mode:default type:extract)\n",
      "INFO:lightrag:Non-embedding cached missed(mode:default type:extract)\n",
      "INFO:lightrag:Non-embedding cached missed(mode:default type:extract)\n",
      "INFO:lightrag:Non-embedding cached missed(mode:default type:extract)\n",
      "INFO:lightrag:Non-embedding cached missed(mode:default type:extract)\n",
      "INFO:lightrag:Non-embedding cached missed(mode:default type:extract)\n",
      "INFO:lightrag:Non-embedding cached missed(mode:default type:extract)\n",
      "INFO:lightrag:Non-embedding cached missed(mode:default type:extract)\n",
      "INFO:lightrag:Non-embedding cached missed(mode:default type:extract)\n",
      "INFO:lightrag:Non-embedding cached missed(mode:default type:extract)\n",
      "INFO:lightrag:Non-embedding cached missed(mode:default type:extract)\n",
      "INFO:lightrag:Non-embedding cached missed(mode:default type:extract)\n",
      "INFO:lightrag:Non-embedding cached missed(mode:default type:extract)\n",
      "INFO:lightrag:Non-embedding cached missed(mode:default type:extract)\n",
      "INFO:lightrag:Non-embedding cached missed(mode:default type:extract)\n",
      "INFO:lightrag:Non-embedding cached missed(mode:default type:extract)\n",
      "INFO:lightrag:Non-embedding cached missed(mode:default type:extract)\n",
      "INFO:lightrag:Non-embedding cached missed(mode:default type:extract)\n",
      "INFO:lightrag:Non-embedding cached missed(mode:default type:extract)\n",
      "INFO:lightrag:Non-embedding cached missed(mode:default type:extract)\n",
      "INFO:lightrag:Non-embedding cached missed(mode:default type:extract)\n",
      "INFO:lightrag:Non-embedding cached missed(mode:default type:extract)\n",
      "INFO:lightrag:Non-embedding cached missed(mode:default type:extract)\n",
      "INFO:lightrag:Non-embedding cached missed(mode:default type:extract)\n",
      "INFO:lightrag:Non-embedding cached missed(mode:default type:extract)\n",
      "INFO:lightrag:Non-embedding cached missed(mode:default type:extract)\n",
      "INFO:lightrag:Non-embedding cached missed(mode:default type:extract)\n"
     ]
    }
   ],
   "source": [
    "rag.insert(\"this is a test\") \n",
    "    "
   ]
  },
  {
   "cell_type": "code",
   "execution_count": null,
   "metadata": {},
   "outputs": [],
   "source": []
  }
 ],
 "metadata": {
  "kernelspec": {
   "display_name": "venv",
   "language": "python",
   "name": "python3"
  },
  "language_info": {
   "codemirror_mode": {
    "name": "ipython",
    "version": 3
   },
   "file_extension": ".py",
   "mimetype": "text/x-python",
   "name": "python",
   "nbconvert_exporter": "python",
   "pygments_lexer": "ipython3",
   "version": "3.11.9"
  }
 },
 "nbformat": 4,
 "nbformat_minor": 2
}
